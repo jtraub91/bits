{
 "cells": [
  {
   "cell_type": "markdown",
   "id": "992d6a3d",
   "metadata": {},
   "source": [
    "# Links\n",
    "\n",
    "- https://github.com/bitcoinbook/bitcoinbook\n",
    "- https://github.com/jimmysong/programmingbitcoin\n"
   ]
  },
  {
   "cell_type": "markdown",
   "id": "8ac10d41",
   "metadata": {},
   "source": [
    "ledger docs on HD wallets - https://developers.ledger.com/docs/nano-app/psd-applications/\n",
    "\n",
    "\n",
    "![where-are-my-assets](https://developers.ledger.com/docs/nano-app/images/where_are_my_assets.png \"Where are my assets?\")\n"
   ]
  },
  {
   "cell_type": "markdown",
   "id": "c5e8982a",
   "metadata": {},
   "source": [
    "# Libs\n",
    "\n",
    "- https://github.com/trezor/python-mnemonic\n"
   ]
  },
  {
   "cell_type": "markdown",
   "id": "52085694",
   "metadata": {},
   "source": [
    "# BIPS\n",
    "\n",
    "### HD wallets\n",
    "\n",
    "- https://github.com/bitcoin/bips/blob/master/bip-0032.mediawiki\n",
    "- https://github.com/bitcoin/bips/blob/master/bip-0039.mediawiki\n",
    "- https://github.com/bitcoin/bips/blob/master/bip-0043.mediawiki\n",
    "- https://github.com/bitcoin/bips/blob/master/bip-0044.mediawiki\n"
   ]
  },
  {
   "cell_type": "code",
   "execution_count": 2,
   "id": "d786f59f",
   "metadata": {},
   "outputs": [],
   "source": [
    "\"\"\"\n",
    "Generate a Bitcoin address\n",
    "\"\"\"\n",
    "\n",
    "import secrets\n",
    "\n",
    "# generate random 256 bit (32 bytes) hex token\n",
    "secret = secrets.token_hex(32)\n",
    "\n",
    "\n",
    "def generate_address(network=\"mainnet\", invoice_type=\"P2PKH\"):\n",
    "    \"\"\"\n",
    "    network: 'mainnet' or 'testnet'\n",
    "    invoice_type: 'P2PKH', 'P2SH', or 'bech32'\n",
    "    \"\"\"\n",
    "    # generate random 256 bit unsigned int\n",
    "    privkey = secrets.randbits(256)\n",
    "    \n",
    "    if invoice_type.lower() == \"p2pkh\":\n",
    "        pass\n",
    "    else:\n",
    "        raise NotImplementedError()\n",
    "    \n",
    "\n",
    "generate_address()"
   ]
  },
  {
   "cell_type": "code",
   "execution_count": 3,
   "id": "744c2468",
   "metadata": {},
   "outputs": [],
   "source": [
    "base58_alphabet = \"123456789ABCDEFGHJKLMNPQRSTUVWXYZabcdefghijkmnopqrstuvwxyz\"\n",
    "# https://en.bitcoinwiki.org/wiki/Base58\n",
    "\n",
    "base64_alphabet = \"ABCDEFGHIJKLMNOPQRSTUVWXYZabcdefghijklmnopqrstuvwxyz0123456789+/\"\n",
    "# https://en.wikipedia.org/wiki/Base64"
   ]
  },
  {
   "cell_type": "code",
   "execution_count": 6,
   "id": "9f7bf82b",
   "metadata": {},
   "outputs": [
    {
     "name": "stdout",
     "output_type": "stream",
     "text": [
      "privkey: 1388bf135d04fbcb5efe4da2ba48da3db738623a0a804713eb99a5ace40df95c\n",
      "x: 007f3bfec9ba050cbda63077e31dd33b04cc978ddb6f9542f30f4b0f8cf1f759\n",
      "y: 32526018b68c26cf259010fa26a45fc1238c6ae94717919e40ef6073447490fc\n"
     ]
    }
   ],
   "source": [
    "import ecdsa\n",
    "\n",
    "signing_key = ecdsa.SigningKey.generate(curve=ecdsa.SECP256k1)\n",
    "secret = signing_key.privkey.secret_multiplier\n",
    "print(f\"privkey: {secret.to_bytes(32, 'big').hex()}\")\n",
    "\n",
    "verifying_key = signing_key.verifying_key\n",
    "\n",
    "(x, y) = verifying_key.pubkey.point.x(), verifying_key.pubkey.point.y()\n",
    "print(f\"x: {x.to_bytes(32, 'big').hex()}\")\n",
    "print(f\"y: {y.to_bytes(32, 'big').hex()}\")"
   ]
  },
  {
   "cell_type": "code",
   "execution_count": 4,
   "id": "0780ffee",
   "metadata": {},
   "outputs": [],
   "source": [
    "import hashlib\n",
    "from base58 import b58encode, b58encode_check\n",
    "\n",
    "def bitcoin_hash(x: int, y: int, compressed=False):\n",
    "    x_bytes = x.to_bytes(32, 'big')\n",
    "    y_bytes = y.to_bytes(32, 'big')\n",
    "\n",
    "    if compressed:\n",
    "        # https://karpathy.github.io/2021/06/21/blockchain/\n",
    "        prefix = b\"\\x02\" if y % 2 == 0 else b\"\\x03\"\n",
    "        ux_pubkey = prefix + x_bytes\n",
    "    else:\n",
    "        ux_pubkey = b\"\\x04\" + x_bytes + y_bytes\n",
    "\n",
    "    hash256 = hashlib.sha256(ux_pubkey).digest()\n",
    "    ripe_hash = hashlib.new(\"ripemd160\", hash256).digest()\n",
    "    return ripe_hash\n",
    "\n",
    "def to_bitcoin_address(\n",
    "    x: int,\n",
    "    y: int,\n",
    "    network: str=\"mainnet\",\n",
    "    compressed: bool=False\n",
    ") -> bytes:\n",
    "    # https://en.bitcoin.it/w/images/en/9/9b/PubKeyToAddr.png\n",
    "\n",
    "    ripe_hash = bitcoin_hash(x, y, compressed=compressed)\n",
    "\n",
    "    if network == \"mainnet\":\n",
    "        network_id = b\"\\x00\"\n",
    "    elif network == \"testnet\":\n",
    "        network_id = b\"\\x6f\"\n",
    "    else:\n",
    "        raise ValueError(\"network must be 'mainnet' or 'testnet'\")\n",
    "    \n",
    "    ux_hash = network_id + ripe_hash\n",
    "    double_sha = hashlib.sha256(hashlib.sha256(ux_hash).digest()).digest()\n",
    "\n",
    "    ux_addr = ux_hash + double_sha[:4]\n",
    "    return b58encode(ux_addr)  # why not b58encode_check ?\n",
    "\n",
    "#addr = to_bitcoin_address(x, y, network=\"mainnet\")\n",
    "#print(addr, len(addr))"
   ]
  },
  {
   "cell_type": "code",
   "execution_count": 26,
   "id": "f9a913fd",
   "metadata": {},
   "outputs": [
    {
     "name": "stdout",
     "output_type": "stream",
     "text": [
      "(77650971224124458173331944410079081514457453147226445995403992195744994942909, (93684660838336764568736530954706445561087138452135284275701897802049104472422, 46649374848673110858765950369998988444931853720143716968769917941804667161586), b'mmJRzDNfx3aYFiQmrCbbrKD4nzfqxtsiiN')\n",
      "(63496753375946996063030423098218736103448894552165900619530569956968829940868, (88612169415003993578166821014637966596834433723705348461664491846313666282016, 105335839458094758109125901264188257602710252056533238647914758144945593138896), b'mi54iWdghdHMaipYfZFzJxmvMbtyb3fQkp')\n"
     ]
    }
   ],
   "source": [
    "def generate_bitcoin_keys_address(network: str=\"testnet\", compressed: bool=True):\n",
    "    \n",
    "    signing_key = ecdsa.SigningKey.generate(curve=ecdsa.SECP256k1)\n",
    "    secret = signing_key.privkey.secret_multiplier\n",
    "\n",
    "    verifying_key = signing_key.verifying_key\n",
    "\n",
    "    (x, y) = verifying_key.pubkey.point.x(), verifying_key.pubkey.point.y()\n",
    "\n",
    "    addr = to_bitcoin_address(x, y, network=network, compressed=compressed)\n",
    "    return secret, (x, y), addr\n",
    "\n",
    "keys_1 = generate_bitcoin_keys_address()\n",
    "print(keys_1)\n",
    "keys_2 = generate_bitcoin_keys_address()\n",
    "print(keys_2)"
   ]
  },
  {
   "cell_type": "code",
   "execution_count": 6,
   "id": "16fa65da",
   "metadata": {},
   "outputs": [
    {
     "name": "stdout",
     "output_type": "stream",
     "text": [
      "3f7276b2b30d44c67685406910b9669b79e81d30\n"
     ]
    }
   ],
   "source": [
    "import hashlib\n",
    "keys_1 = (77650971224124458173331944410079081514457453147226445995403992195744994942909, (93684660838336764568736530954706445561087138452135284275701897802049104472422, 46649374848673110858765950369998988444931853720143716968769917941804667161586), b'mmJRzDNfx3aYFiQmrCbbrKD4nzfqxtsiiN')\n",
    "\n",
    "ripe_hash = bitcoin_hash(keys_1[1][0], keys_1[1][1], compressed=True)\n",
    "print(ripe_hash.hex())"
   ]
  },
  {
   "cell_type": "code",
   "execution_count": 7,
   "id": "6ad182dc",
   "metadata": {},
   "outputs": [
    {
     "ename": "NameError",
     "evalue": "name 'Script' is not defined",
     "output_type": "error",
     "traceback": [
      "\u001b[1;31m---------------------------------------------------------------------------\u001b[0m",
      "\u001b[1;31mNameError\u001b[0m                                 Traceback (most recent call last)",
      "\u001b[1;32mc:\\Users\\Jason\\WebProjects\\bits\\notes.ipynb Cell 11\u001b[0m in \u001b[0;36m<cell line: 5>\u001b[1;34m()\u001b[0m\n\u001b[0;32m      <a href='vscode-notebook-cell:/c%3A/Users/Jason/WebProjects/bits/notes.ipynb#ch0000010?line=0'>1</a>\u001b[0m \u001b[39m# https://karpathy.github.io/2021/06/21/blockchain/\u001b[39;00m\n\u001b[0;32m      <a href='vscode-notebook-cell:/c%3A/Users/Jason/WebProjects/bits/notes.ipynb#ch0000010?line=2'>3</a>\u001b[0m \u001b[39mfrom\u001b[39;00m \u001b[39mdataclasses\u001b[39;00m \u001b[39mimport\u001b[39;00m dataclass\n\u001b[0;32m      <a href='vscode-notebook-cell:/c%3A/Users/Jason/WebProjects/bits/notes.ipynb#ch0000010?line=4'>5</a>\u001b[0m \u001b[39m@dataclass\u001b[39m\n\u001b[1;32m----> <a href='vscode-notebook-cell:/c%3A/Users/Jason/WebProjects/bits/notes.ipynb#ch0000010?line=5'>6</a>\u001b[0m \u001b[39mclass\u001b[39;00m \u001b[39mTxIn\u001b[39;00m:\n\u001b[0;32m      <a href='vscode-notebook-cell:/c%3A/Users/Jason/WebProjects/bits/notes.ipynb#ch0000010?line=6'>7</a>\u001b[0m     prev_tx: \u001b[39mbytes\u001b[39m\n\u001b[0;32m      <a href='vscode-notebook-cell:/c%3A/Users/Jason/WebProjects/bits/notes.ipynb#ch0000010?line=7'>8</a>\u001b[0m     prev_index: \u001b[39mint\u001b[39m\n",
      "\u001b[1;32mc:\\Users\\Jason\\WebProjects\\bits\\notes.ipynb Cell 11\u001b[0m in \u001b[0;36mTxIn\u001b[1;34m()\u001b[0m\n\u001b[0;32m      <a href='vscode-notebook-cell:/c%3A/Users/Jason/WebProjects/bits/notes.ipynb#ch0000010?line=6'>7</a>\u001b[0m prev_tx: \u001b[39mbytes\u001b[39m\n\u001b[0;32m      <a href='vscode-notebook-cell:/c%3A/Users/Jason/WebProjects/bits/notes.ipynb#ch0000010?line=7'>8</a>\u001b[0m prev_index: \u001b[39mint\u001b[39m\n\u001b[1;32m----> <a href='vscode-notebook-cell:/c%3A/Users/Jason/WebProjects/bits/notes.ipynb#ch0000010?line=8'>9</a>\u001b[0m script_sig: Script \u001b[39m=\u001b[39m \u001b[39mNone\u001b[39;00m\n\u001b[0;32m     <a href='vscode-notebook-cell:/c%3A/Users/Jason/WebProjects/bits/notes.ipynb#ch0000010?line=9'>10</a>\u001b[0m sequence: \u001b[39mint\u001b[39m \u001b[39m=\u001b[39m \u001b[39m0xffffffff\u001b[39m\n",
      "\u001b[1;31mNameError\u001b[0m: name 'Script' is not defined"
     ]
    }
   ],
   "source": [
    "# adapted from\n",
    "# https://karpathy.github.io/2021/06/21/blockchain/\n",
    "from dataclasses import dataclass\n",
    "\n",
    "@dataclass\n",
    "class TxIn:\n",
    "    prev_tx: bytes\n",
    "    prev_index: int\n",
    "    script_sig: Script = None\n",
    "    sequence: int = 0xffffffff\n",
    "\n",
    "tx_in_1 = TxIn(\n",
    "    # https://blockstream.info/testnet/address/mmJRzDNfx3aYFiQmrCbbrKD4nzfqxtsiiN\n",
    "    prev_tx=bytes.fromhex(\"2d67a5b64bbfb2d8f26780f2580de0a297234d9fa3dafaae93a9192828adada8\"),\n",
    "    prev_index=1\n",
    ")\n",
    "\n",
    "@dataclass\n",
    "class TxOut:\n",
    "    amount: int  # in satoshis\n",
    "    script_pubkey: Script = None\n",
    "\n",
    "# tx_in_1 is a utxo of 10,000 satoshis\n",
    "tx_out1 = TxOut(amount=1000)\n",
    "tx_out2 = TxOut(amount=9000)\n"
   ]
  },
  {
   "cell_type": "code",
   "execution_count": 8,
   "id": "2a416e05",
   "metadata": {},
   "outputs": [],
   "source": [
    "# https://github.com/bitcoin/bitcoin/blob/master/src/script/script.h\n",
    "SCRIPT_OPCODES_MAP = {\n",
    "    \"OP_DUP\": 0x76,\n",
    "    \"OP_HASH160\": 0xA9,\n",
    "    # \"OP_PUSHBYTES_20\": 0x00,  # ???\n",
    "    \"OP_EQUALVERIFY\": 0x88,\n",
    "    \"OP_CHECKSIG\": 0xAC,\n",
    "}"
   ]
  },
  {
   "cell_type": "code",
   "execution_count": 10,
   "id": "514a6444",
   "metadata": {},
   "outputs": [
    {
     "data": {
      "text/plain": [
       "44"
      ]
     },
     "execution_count": 10,
     "metadata": {},
     "output_type": "execute_result"
    }
   ],
   "source": [
    "script_pubkey = \"001427801ec818bff0facf4754cc9ca71900bce2282d\"\n",
    "len(script_pubkey)"
   ]
  },
  {
   "cell_type": "code",
   "execution_count": null,
   "id": "e650c1a5",
   "metadata": {},
   "outputs": [],
   "source": []
  }
 ],
 "metadata": {
  "kernelspec": {
   "display_name": "Python 3 (ipykernel)",
   "language": "python",
   "name": "python3"
  },
  "language_info": {
   "codemirror_mode": {
    "name": "ipython",
    "version": 3
   },
   "file_extension": ".py",
   "mimetype": "text/x-python",
   "name": "python",
   "nbconvert_exporter": "python",
   "pygments_lexer": "ipython3",
   "version": "3.10.0"
  },
  "vscode": {
   "interpreter": {
    "hash": "769bd28105afab439b53b6bd425dd1fcadc62dd4cf258d57cc66b7a612bb341c"
   }
  }
 },
 "nbformat": 4,
 "nbformat_minor": 5
}
