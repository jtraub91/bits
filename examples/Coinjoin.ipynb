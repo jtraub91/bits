{
 "cells": [
  {
   "cell_type": "markdown",
   "id": "bb5516ca-e0ee-43ad-9061-03d7445daaa9",
   "metadata": {},
   "source": [
    "# Manual PSBT CoinJoin Workflow\n",
    "\n",
    "![coinjoin workflow](https://raw.githubusercontent.com/bitcoin/bips/refs/heads/master/bip-0174/coinjoin-workflow.svg \"Coinjoin Workflow\")"
   ]
  },
  {
   "cell_type": "code",
   "execution_count": 8,
   "id": "21354fbc-9826-4d90-8933-ad69cc6cfe1e",
   "metadata": {},
   "outputs": [
    {
     "name": "stdout",
     "output_type": "stream",
     "text": [
      "b'mkJEaG9s5xKMdFje9zi47bKdF4TrFRMEzP'\n"
     ]
    }
   ],
   "source": [
    "import bits.keys\n",
    "\n",
    "alice_key = bits.keys.key()\n",
    "alice_pubkey = bits.keys.pub(alice_key, compressed=True)\n",
    "alice_p2pkh_addr = bits.to_bitcoin_address(bits.crypto.hash160(alice_pubkey), network=\"regtest\")\n",
    "print(alice_p2pkh_addr)"
   ]
  },
  {
   "cell_type": "code",
   "execution_count": 9,
   "id": "77651181",
   "metadata": {},
   "outputs": [],
   "source": [
    "# send some bitcoin to alice\n",
    "# we're running bitcoind in regtest mode and we can mine to get the block reward sent to alice's address\n",
    "# with the following CLI command (be sure to configure rpc settings in the config):\n",
    "\n",
    "# bits mine --limit 101 --recv-addr mkJEaG9s5xKMdFje9zi47bKdF4TrFRMEzP\n",
    "\n",
    "# then find info on your utxos with:\n",
    "# bits rpc scantxoutset start '[\"addr(mkJEaG9s5xKMdFje9zi47bKdF4TrFRMEzP)\"]"
   ]
  },
  {
   "cell_type": "code",
   "execution_count": 10,
   "id": "db4cf02d",
   "metadata": {},
   "outputs": [],
   "source": [
    "# {\n",
    "#     \"txid\": \"654355d7d26943b214cb5bfdd114868a7bf3f25bd01013b74e444cc891a27efd\",\n",
    "#     \"vout\": 0,\n",
    "#     \"scriptPubKey\": \"76a9143470cf91998e238b2ca26dceacae924dba9b762c88ac\",\n",
    "#     \"desc\": \"addr(mkJEaG9s5xKMdFje9zi47bKdF4TrFRMEzP)#4exy2s7f\",\n",
    "#     \"amount\": 50,\n",
    "#     \"coinbase\": true,\n",
    "#     \"height\": 34\n",
    "# }\n",
    "\n",
    "import bits.tx\n",
    "\n",
    "outpoint = bits.tx.outpoint(bytes.fromhex(\"654355d7d26943b214cb5bfdd114868a7bf3f25bd01013b74e444cc891a27efd\")[::-1], 0)\n",
    "script_sig = b\"\"    # empty for now\n",
    "txins = [bits.tx.txin(outpoint, script_sig)]"
   ]
  },
  {
   "cell_type": "code",
   "execution_count": 11,
   "id": "48869ffd",
   "metadata": {},
   "outputs": [
    {
     "name": "stdout",
     "output_type": "stream",
     "text": [
      "b'mn8WNs1F5tKTQ2AHZMSjhdN7XTg2msTRLe'\n"
     ]
    }
   ],
   "source": [
    "# generate another address to send to \n",
    "\n",
    "darwin_key = bits.keys.key()\n",
    "darwin_pubkey = bits.keys.pub(darwin_key, compressed=True)\n",
    "darwin_p2pkh_addr = bits.to_bitcoin_address(bits.crypto.hash160(darwin_pubkey), network=\"regtest\")\n",
    "print(darwin_p2pkh_addr)"
   ]
  },
  {
   "cell_type": "code",
   "execution_count": 19,
   "id": "105db8ca",
   "metadata": {},
   "outputs": [
    {
     "name": "stdout",
     "output_type": "stream",
     "text": [
      "0100000001fd7ea291c84c444eb71310d05bf2f37b8a8614d1fd5bcb14b24369d2d75543650000000000ffffffff0100f90295000000001976a914488a1846eac8f925ce01ea941a852ef5a461032a88ac00000000\n"
     ]
    }
   ],
   "source": [
    "import bits.script\n",
    "import bits.base58\n",
    "\n",
    "txouts = [\n",
    "    bits.tx.txout(\n",
    "        int(2500e6),     # 25 BTC\n",
    "        bits.script.p2pkh_script_pubkey(\n",
    "            bits.base58.base58check_decode(darwin_p2pkh_addr)[1:]   # == bits.crypto.hash160(darwin_pubkey)\n",
    "        )\n",
    "    )\n",
    "]\n",
    "\n",
    "tx = bits.tx.tx(txins, txouts)\n",
    "print(tx.hex())"
   ]
  },
  {
   "cell_type": "code",
   "execution_count": 18,
   "id": "04d887ee",
   "metadata": {},
   "outputs": [],
   "source": [
    "# use\n",
    "# a) bits rpc testmempoolaccept, or \n",
    "# b) bits rpc decoderawtransaction\n",
    "# to somewhat verify the raw transaction\n",
    "# you may need to mine more blocks to spend coinbase txin\n",
    "# note: bits rpc is basically a passthrough for bitcoin-cli but does have the advantage of leveraging the bits config with rpc settings etc\n",
    "\n",
    "\n",
    "# OK...\n",
    "# now to form PSBT to send to Bob"
   ]
  },
  {
   "cell_type": "code",
   "execution_count": null,
   "id": "10740af7",
   "metadata": {},
   "outputs": [
    {
     "name": "stdout",
     "output_type": "stream",
     "text": [
      "cHNidP8BAFUBAAAAAf1+opHITEROtxMQ0Fvy83uKhhTR/VvLFLJDadLXVUNlAAAAAAD/////AQD5ApUAAAAAGXapFEiKGEbqyPklzgHqlBqFLvWkYQMqiKwAAAAAAAAA\n"
     ]
    }
   ],
   "source": [
    "\n",
    "import bits.tx\n",
    "\n",
    "psbt = bits.tx.create_psbt(tx, b64encode=True)\n",
    "print(psbt.decode(\"utf8\"))\n",
    "\n",
    "cHNidP8BAFUCAAAAAf1+opHITEROtxMQ0Fvy83uKhhTR/VvLFLJDadLXVUNlAAAAAAD9////AQDyBSoBAAAAGXapFEiKGEbqyPklzgHqlBqFLvWkYQMqiKwAAAAAAAAA"
   ]
  },
  {
   "cell_type": "code",
   "execution_count": 46,
   "id": "b8c83c4e",
   "metadata": {},
   "outputs": [
    {
     "name": "stdout",
     "output_type": "stream",
     "text": [
      "{\n",
      "  \"psbt_version\": 0,\n",
      "  \"global_map\": [\n",
      "    {\n",
      "      \"keytype\": 0,\n",
      "      \"keydata\": \"\",\n",
      "      \"valuedata\": \"0100000001fd7ea291c84c444eb71310d05bf2f37b8a8614d1fd5bcb14b24369d2d75543650000000000ffffffff0100f90295000000001976a914488a1846eac8f925ce01ea941a852ef5a461032a88ac00000000\"\n",
      "    }\n",
      "  ],\n",
      "  \"input_map\": [],\n",
      "  \"output_map\": []\n",
      "}\n"
     ]
    }
   ],
   "source": [
    "# ok, now hand to bob\n",
    "import json\n",
    "from bits.bips import bip174\n",
    "\n",
    "parsed_psbt = bip174.parse_psbt(psbt, b64decode=True)\n",
    "print(json.dumps(parsed_psbt, indent=2))\n"
   ]
  },
  {
   "cell_type": "code",
   "execution_count": null,
   "id": "649804fa",
   "metadata": {},
   "outputs": [],
   "source": []
  }
 ],
 "metadata": {
  "kernelspec": {
   "display_name": "venv",
   "language": "python",
   "name": "python3"
  },
  "language_info": {
   "codemirror_mode": {
    "name": "ipython",
    "version": 3
   },
   "file_extension": ".py",
   "mimetype": "text/x-python",
   "name": "python",
   "nbconvert_exporter": "python",
   "pygments_lexer": "ipython3",
   "version": "3.11.2"
  }
 },
 "nbformat": 4,
 "nbformat_minor": 5
}
